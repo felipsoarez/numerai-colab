{
  "nbformat": 4,
  "nbformat_minor": 0,
  "metadata": {
    "kernelspec": {
      "display_name": "Python 3.9.2 64-bit",
      "metadata": {
        "interpreter": {
          "hash": "6f6d64a7ba9cd062c59eea959ce2d8fc2832d4e9d0b0a9d5e546a142dd474f01"
        }
      },
      "name": "python3"
    },
    "language_info": {
      "codemirror_mode": {
        "name": "ipython",
        "version": 3
      },
      "file_extension": ".py",
      "mimetype": "text/x-python",
      "name": "python",
      "nbconvert_exporter": "python",
      "pygments_lexer": "ipython3",
      "version": "3.9.2"
    },
    "orig_nbformat": 2,
    "colab": {
      "name": "Cópia de Numerai Leaderboard Viz and Analysis.ipynb",
      "provenance": [],
      "collapsed_sections": [],
      "include_colab_link": true
    }
  },
  "cells": [
    {
      "cell_type": "markdown",
      "metadata": {
        "id": "view-in-github",
        "colab_type": "text"
      },
      "source": [
        "<a href=\"https://colab.research.google.com/github/felipsoarez/numerai-colab/blob/main/C%C3%B3pia_de_Numerai_Leaderboard_Viz_and_Analysis.ipynb\" target=\"_parent\"><img src=\"https://colab.research.google.com/assets/colab-badge.svg\" alt=\"Open In Colab\"/></a>"
      ]
    },
    {
      "cell_type": "markdown",
      "metadata": {
        "id": "ZHvYZnyxJI0e"
      },
      "source": [
        "# Data Viz and Analysis on the LeaderBoard\r\n",
        " \r\n",
        "I'm Parker Burchett (MrQuantsALot) and created this notebook to figure out if participating in this tournament is the type of challenge I had a reasonable shot at being successful at. \r\n",
        " \r\n",
        "The beautiful thing about blockchain is that since everything is public and anonymous you can just look at the data to get a real answer. After spending a few days writing this, I am pretty sure that I have a reasonable chance and creating a profitable model.\r\n",
        " \r\n",
        "I looked at the characteristics and distribution of successful users. \r\n",
        " \r\n",
        "If you have any feedback or suggestions please let me know on the forum. I am still a novice at this kind of analysis and I am sure there are things that I missed or misinterpreted. In particular, I don't know why there is a negative coefficient on the FNC -> 3M_returns OLS regression. \r\n",
        " \r\n",
        "This notebook does the following when you run it:\r\n",
        " \r\n",
        "1. Query the [Numerai Leaderboard](https://numer.ai/tournament) and cast it as a Pandas Dataframe.\r\n",
        "2. Visualize the relationship between the stake size, performance metrics and returns. \r\n",
        "3. OLS Regression on Returns.  \r\n",
        " \r\n",
        "All of the methods are written such that you can change the dependent and independent variables. I included the visualizations I thought were interesting but you can check out the other variables yourself. The numbers will change as the leaderboard updates. \r\n",
        " "
      ]
    },
    {
      "cell_type": "code",
      "metadata": {
        "colab": {
          "base_uri": "https://localhost:8080/"
        },
        "id": "91R8_MmYJI0j",
        "outputId": "f8794c03-fe24-4c3a-f8b3-60a03a807be4"
      },
      "source": [
        "!pip install numpy\r\n",
        "!pip install pandas \r\n",
        "!pip install json \r\n",
        "!pip install requests \r\n",
        "!pip install matplotlib\r\n",
        "!pip install statsmodels \r\n",
        "%matplotlib inline"
      ],
      "execution_count": 1,
      "outputs": [
        {
          "output_type": "stream",
          "text": [
            "Requirement already satisfied: numpy in /usr/local/lib/python3.7/dist-packages (1.19.5)\n",
            "Requirement already satisfied: pandas in /usr/local/lib/python3.7/dist-packages (1.1.5)\n",
            "Requirement already satisfied: pytz>=2017.2 in /usr/local/lib/python3.7/dist-packages (from pandas) (2018.9)\n",
            "Requirement already satisfied: python-dateutil>=2.7.3 in /usr/local/lib/python3.7/dist-packages (from pandas) (2.8.1)\n",
            "Requirement already satisfied: numpy>=1.15.4 in /usr/local/lib/python3.7/dist-packages (from pandas) (1.19.5)\n",
            "Requirement already satisfied: six>=1.5 in /usr/local/lib/python3.7/dist-packages (from python-dateutil>=2.7.3->pandas) (1.15.0)\n",
            "\u001b[31mERROR: Could not find a version that satisfies the requirement json (from versions: none)\u001b[0m\n",
            "\u001b[31mERROR: No matching distribution found for json\u001b[0m\n",
            "Requirement already satisfied: requests in /usr/local/lib/python3.7/dist-packages (2.23.0)\n",
            "Requirement already satisfied: idna<3,>=2.5 in /usr/local/lib/python3.7/dist-packages (from requests) (2.10)\n",
            "Requirement already satisfied: chardet<4,>=3.0.2 in /usr/local/lib/python3.7/dist-packages (from requests) (3.0.4)\n",
            "Requirement already satisfied: certifi>=2017.4.17 in /usr/local/lib/python3.7/dist-packages (from requests) (2020.12.5)\n",
            "Requirement already satisfied: urllib3!=1.25.0,!=1.25.1,<1.26,>=1.21.1 in /usr/local/lib/python3.7/dist-packages (from requests) (1.24.3)\n",
            "Requirement already satisfied: matplotlib in /usr/local/lib/python3.7/dist-packages (3.2.2)\n",
            "Requirement already satisfied: python-dateutil>=2.1 in /usr/local/lib/python3.7/dist-packages (from matplotlib) (2.8.1)\n",
            "Requirement already satisfied: numpy>=1.11 in /usr/local/lib/python3.7/dist-packages (from matplotlib) (1.19.5)\n",
            "Requirement already satisfied: pyparsing!=2.0.4,!=2.1.2,!=2.1.6,>=2.0.1 in /usr/local/lib/python3.7/dist-packages (from matplotlib) (2.4.7)\n",
            "Requirement already satisfied: cycler>=0.10 in /usr/local/lib/python3.7/dist-packages (from matplotlib) (0.10.0)\n",
            "Requirement already satisfied: kiwisolver>=1.0.1 in /usr/local/lib/python3.7/dist-packages (from matplotlib) (1.3.1)\n",
            "Requirement already satisfied: six>=1.5 in /usr/local/lib/python3.7/dist-packages (from python-dateutil>=2.1->matplotlib) (1.15.0)\n",
            "Requirement already satisfied: statsmodels in /usr/local/lib/python3.7/dist-packages (0.10.2)\n",
            "Requirement already satisfied: pandas>=0.19 in /usr/local/lib/python3.7/dist-packages (from statsmodels) (1.1.5)\n",
            "Requirement already satisfied: numpy>=1.11 in /usr/local/lib/python3.7/dist-packages (from statsmodels) (1.19.5)\n",
            "Requirement already satisfied: scipy>=0.18 in /usr/local/lib/python3.7/dist-packages (from statsmodels) (1.4.1)\n",
            "Requirement already satisfied: patsy>=0.4.0 in /usr/local/lib/python3.7/dist-packages (from statsmodels) (0.5.1)\n",
            "Requirement already satisfied: pytz>=2017.2 in /usr/local/lib/python3.7/dist-packages (from pandas>=0.19->statsmodels) (2018.9)\n",
            "Requirement already satisfied: python-dateutil>=2.7.3 in /usr/local/lib/python3.7/dist-packages (from pandas>=0.19->statsmodels) (2.8.1)\n",
            "Requirement already satisfied: six in /usr/local/lib/python3.7/dist-packages (from patsy>=0.4.0->statsmodels) (1.15.0)\n"
          ],
          "name": "stdout"
        }
      ]
    },
    {
      "cell_type": "markdown",
      "metadata": {
        "id": "yEkjLsiNJI0k"
      },
      "source": [
        "# Import packages"
      ]
    },
    {
      "cell_type": "code",
      "metadata": {
        "id": "qfsG0OP_JI0l"
      },
      "source": [
        "import requests\r\n",
        "import json\r\n",
        "import numpy as np\r\n",
        "import pandas as pd\r\n",
        "import matplotlib.pyplot as plt\r\n",
        "import statsmodels.api as sm\r\n",
        "import pandas.util.testing as tm"
      ],
      "execution_count": 3,
      "outputs": []
    },
    {
      "cell_type": "markdown",
      "metadata": {
        "id": "dVB5N4WCJI0l"
      },
      "source": [
        "# Ping the Leaderboard"
      ]
    },
    {
      "cell_type": "code",
      "metadata": {
        "colab": {
          "base_uri": "https://localhost:8080/",
          "height": 529
        },
        "id": "9B2J2dshJI0l",
        "outputId": "ce22309d-a1fc-4b5d-9246-fae61a42eba9"
      },
      "source": [
        "def get_leaderboard() -> pd.DataFrame:\r\n",
        "    \"\"\"\r\n",
        "        Ping the Numerai leaderboard and return a Pandas DataFrame of the contents.\r\n",
        "    \"\"\"\r\n",
        "    url = 'https://api-tournament.numer.ai/'\r\n",
        "    # this is a Graphql query, that lets me get exactly and only the data I want. \r\n",
        "    query = \"\"\"{ \r\n",
        "    v2Leaderboard {\r\n",
        "        returns\r\n",
        "        corrRep\r\n",
        "        fncRep\r\n",
        "        mmcRep\r\n",
        "        username\r\n",
        "        nmrStaked\r\n",
        "        returns \r\n",
        "        return_52Weeks\r\n",
        "        return_13Weeks\r\n",
        "        rank\r\n",
        "        }  \r\n",
        "    }\"\"\"\r\n",
        "    r = requests.post(url=url, json={'query': query})\r\n",
        "    json_data = json.loads(r.text)\r\n",
        "    df_data = json_data['data']['v2Leaderboard']\r\n",
        "    df = pd.DataFrame(df_data)\r\n",
        "    df.convert_dtypes() # the auto casts the columns into what it thinks is the most appropriate \r\n",
        "    df['nmrStaked'] = pd.to_numeric(df['nmrStaked']) # for some reason nmrStaked does not get auto cast as a numaric\r\n",
        " \r\n",
        "    #Renaming the columns\r\n",
        "    df = df.rename(columns={'returns': '1D_returns', 'return_13Weeks': '3M_returns', 'return_52Weeks': '1Y_returns'})\r\n",
        "    return df\r\n",
        " \r\n",
        "df =  get_leaderboard()\r\n",
        "print(df.count())\r\n",
        "df.head(10)\r\n",
        " \r\n",
        " \r\n",
        "\r\n"
      ],
      "execution_count": 5,
      "outputs": [
        {
          "output_type": "stream",
          "text": [
            "corrRep       5476\n",
            "fncRep        5476\n",
            "mmcRep        5476\n",
            "nmrStaked     5476\n",
            "rank          5476\n",
            "3M_returns    1934\n",
            "1Y_returns     401\n",
            "1D_returns    2645\n",
            "username      5476\n",
            "dtype: int64\n"
          ],
          "name": "stdout"
        },
        {
          "output_type": "execute_result",
          "data": {
            "text/html": [
              "<div>\n",
              "<style scoped>\n",
              "    .dataframe tbody tr th:only-of-type {\n",
              "        vertical-align: middle;\n",
              "    }\n",
              "\n",
              "    .dataframe tbody tr th {\n",
              "        vertical-align: top;\n",
              "    }\n",
              "\n",
              "    .dataframe thead th {\n",
              "        text-align: right;\n",
              "    }\n",
              "</style>\n",
              "<table border=\"1\" class=\"dataframe\">\n",
              "  <thead>\n",
              "    <tr style=\"text-align: right;\">\n",
              "      <th></th>\n",
              "      <th>corrRep</th>\n",
              "      <th>fncRep</th>\n",
              "      <th>mmcRep</th>\n",
              "      <th>nmrStaked</th>\n",
              "      <th>rank</th>\n",
              "      <th>3M_returns</th>\n",
              "      <th>1Y_returns</th>\n",
              "      <th>1D_returns</th>\n",
              "      <th>username</th>\n",
              "    </tr>\n",
              "  </thead>\n",
              "  <tbody>\n",
              "    <tr>\n",
              "      <th>0</th>\n",
              "      <td>0.053072</td>\n",
              "      <td>0.010245</td>\n",
              "      <td>0.025257</td>\n",
              "      <td>865.901893</td>\n",
              "      <td>1</td>\n",
              "      <td>194.558449</td>\n",
              "      <td>NaN</td>\n",
              "      <td>19.076110</td>\n",
              "      <td>quantyquant</td>\n",
              "    </tr>\n",
              "    <tr>\n",
              "      <th>1</th>\n",
              "      <td>0.051262</td>\n",
              "      <td>0.005724</td>\n",
              "      <td>0.024232</td>\n",
              "      <td>1050.581075</td>\n",
              "      <td>2</td>\n",
              "      <td>200.183523</td>\n",
              "      <td>660.512428</td>\n",
              "      <td>21.506273</td>\n",
              "      <td>benben11</td>\n",
              "    </tr>\n",
              "    <tr>\n",
              "      <th>2</th>\n",
              "      <td>0.047131</td>\n",
              "      <td>0.021601</td>\n",
              "      <td>0.019748</td>\n",
              "      <td>96.043277</td>\n",
              "      <td>3</td>\n",
              "      <td>62.705261</td>\n",
              "      <td>249.180522</td>\n",
              "      <td>14.564172</td>\n",
              "      <td>labrat</td>\n",
              "    </tr>\n",
              "    <tr>\n",
              "      <th>3</th>\n",
              "      <td>0.044944</td>\n",
              "      <td>0.016109</td>\n",
              "      <td>0.025885</td>\n",
              "      <td>0.014615</td>\n",
              "      <td>4</td>\n",
              "      <td>NaN</td>\n",
              "      <td>NaN</td>\n",
              "      <td>11.992405</td>\n",
              "      <td>hb_falcon</td>\n",
              "    </tr>\n",
              "    <tr>\n",
              "      <th>4</th>\n",
              "      <td>0.044354</td>\n",
              "      <td>0.013486</td>\n",
              "      <td>0.019788</td>\n",
              "      <td>0.000000</td>\n",
              "      <td>5</td>\n",
              "      <td>NaN</td>\n",
              "      <td>NaN</td>\n",
              "      <td>NaN</td>\n",
              "      <td>uuazed4</td>\n",
              "    </tr>\n",
              "    <tr>\n",
              "      <th>5</th>\n",
              "      <td>0.043566</td>\n",
              "      <td>0.007054</td>\n",
              "      <td>0.017754</td>\n",
              "      <td>8.619856</td>\n",
              "      <td>6</td>\n",
              "      <td>109.078930</td>\n",
              "      <td>NaN</td>\n",
              "      <td>1.238475</td>\n",
              "      <td>uuazed6</td>\n",
              "    </tr>\n",
              "    <tr>\n",
              "      <th>6</th>\n",
              "      <td>0.043370</td>\n",
              "      <td>0.006939</td>\n",
              "      <td>0.018597</td>\n",
              "      <td>30.531349</td>\n",
              "      <td>7</td>\n",
              "      <td>110.681215</td>\n",
              "      <td>NaN</td>\n",
              "      <td>8.122367</td>\n",
              "      <td>junyou</td>\n",
              "    </tr>\n",
              "    <tr>\n",
              "      <th>7</th>\n",
              "      <td>0.042716</td>\n",
              "      <td>0.015993</td>\n",
              "      <td>0.015338</td>\n",
              "      <td>0.000000</td>\n",
              "      <td>8</td>\n",
              "      <td>NaN</td>\n",
              "      <td>NaN</td>\n",
              "      <td>NaN</td>\n",
              "      <td>ezekiel_47_v12</td>\n",
              "    </tr>\n",
              "    <tr>\n",
              "      <th>8</th>\n",
              "      <td>0.042480</td>\n",
              "      <td>0.001998</td>\n",
              "      <td>0.029960</td>\n",
              "      <td>1.418858</td>\n",
              "      <td>9</td>\n",
              "      <td>149.586360</td>\n",
              "      <td>NaN</td>\n",
              "      <td>0.285587</td>\n",
              "      <td>neuralnetwork3</td>\n",
              "    </tr>\n",
              "    <tr>\n",
              "      <th>9</th>\n",
              "      <td>0.042421</td>\n",
              "      <td>0.006763</td>\n",
              "      <td>0.016724</td>\n",
              "      <td>11.663176</td>\n",
              "      <td>10</td>\n",
              "      <td>121.120547</td>\n",
              "      <td>NaN</td>\n",
              "      <td>-1.286710</td>\n",
              "      <td>uuazed5</td>\n",
              "    </tr>\n",
              "  </tbody>\n",
              "</table>\n",
              "</div>"
            ],
            "text/plain": [
              "    corrRep    fncRep    mmcRep  ...  1Y_returns  1D_returns        username\n",
              "0  0.053072  0.010245  0.025257  ...         NaN   19.076110     quantyquant\n",
              "1  0.051262  0.005724  0.024232  ...  660.512428   21.506273        benben11\n",
              "2  0.047131  0.021601  0.019748  ...  249.180522   14.564172          labrat\n",
              "3  0.044944  0.016109  0.025885  ...         NaN   11.992405       hb_falcon\n",
              "4  0.044354  0.013486  0.019788  ...         NaN         NaN         uuazed4\n",
              "5  0.043566  0.007054  0.017754  ...         NaN    1.238475         uuazed6\n",
              "6  0.043370  0.006939  0.018597  ...         NaN    8.122367          junyou\n",
              "7  0.042716  0.015993  0.015338  ...         NaN         NaN  ezekiel_47_v12\n",
              "8  0.042480  0.001998  0.029960  ...         NaN    0.285587  neuralnetwork3\n",
              "9  0.042421  0.006763  0.016724  ...         NaN   -1.286710         uuazed5\n",
              "\n",
              "[10 rows x 9 columns]"
            ]
          },
          "metadata": {
            "tags": []
          },
          "execution_count": 5
        }
      ]
    },
    {
      "cell_type": "markdown",
      "metadata": {
        "id": "9cwY5NvbJI0m"
      },
      "source": [
        "# Methods to create plots\r\n",
        "\r\n",
        "### Each method has the optional param min_stake. Use it to exclude smaller stakeing users. \r\n"
      ]
    },
    {
      "cell_type": "code",
      "metadata": {
        "id": "fogT8w9bJI0m"
      },
      "source": [
        "def create_histogram(df, col='corrRep', bins=50, min_stake=0, max_stake=1000000):\r\n",
        "    x = df[((df[col].notnull()) & (df['nmrStaked'] > min_stake)) & (df['nmrStaked'] < max_stake)][col]\r\n",
        "    plt.hist(x, bins, label=f'{col} when nmrStaked>{min_stake}', alpha=.5)\r\n",
        "    plt.xlabel(col)\r\n",
        "    plt.ylabel('Count')\r\n",
        "    num_elements = x.count()    \r\n",
        "    return plt\r\n",
        " \r\n",
        "def create_scatter_plot(df, x_name='corrRep', y_name='fncRep', min_stake=0, max_stake=1000000):\r\n",
        " \r\n",
        "    # these are ugly one liners if you are unfamiliar with pandas.\r\n",
        "    # They select a subset of the Dataframe df based on compound booleans. Think of them as SELECT x_name WHERE bool1, bool2... if you were writing SQL\r\n",
        "    # (df[x_name].notnull()) get rows when x_name is not null\r\n",
        "    # df['nmrStaked'] > min_stake) get rows where the stake is greater than the min_stake\r\n",
        "    # df['nmrStaked'] < max_stake) get rows where the stake is less than the max stake\r\n",
        "    # [x_name] says only give me the column with name x_name\r\n",
        "    x = df[((df[x_name].notnull()) & (df['nmrStaked'] > min_stake)) & (df['nmrStaked'] < max_stake)][x_name]\r\n",
        "    y = df[((df[y_name].notnull()) & (df['nmrStaked'] > min_stake)) & (df['nmrStaked'] < max_stake)][y_name]\r\n",
        "    plt.scatter(x, y, s=.5)\r\n",
        "    plt.xlabel(x_name)\r\n",
        "    plt.ylabel(y_name)\r\n",
        "    num_elements = x.count()\r\n",
        "    plt.title(\r\n",
        "        f'{y_name} v {x_name} when nmrStaked>{min_stake}\\n Number of Elements:{num_elements}'\r\n",
        "    )\r\n",
        "    return plt\r\n",
        " \r\n",
        "plt.style.use('bmh')\r\n",
        "plt.rcParams['figure.figsize'] = (14,7)\r\n",
        "plt.rcParams['font.family'] = 'serif'\r\n"
      ],
      "execution_count": 11,
      "outputs": []
    },
    {
      "cell_type": "markdown",
      "metadata": {
        "id": "aUDMZ5NAJI0m"
      },
      "source": [
        "## Histogram of 3 Month Returns by Stake Size"
      ]
    },
    {
      "cell_type": "code",
      "metadata": {
        "colab": {
          "base_uri": "https://localhost:8080/",
          "height": 458
        },
        "id": "DYig9JYAJI0n",
        "outputId": "ebd180d1-6c7c-4078-e0d5-dd50c9711f61"
      },
      "source": [
        "col = '3M_returns' # change this to be '1D_returns' or '1Y_returns' or 'corrRep', 'fncRep' to see other distributions\r\n",
        "\r\n",
        "create_histogram(df,col=col, min_stake=0, max_stake=.1)\r\n",
        "create_histogram(df,col=col, min_stake=.1, max_stake=100)\r\n",
        "create_histogram(df, col=col,min_stake=100, max_stake=1000000)\r\n",
        "\r\n",
        "\r\n",
        "plt.legend(['0 to .1','.1 to 100','100+'])\r\n",
        "plt.title(f'Histogram of {col} by stake size')\r\n",
        "plt.show()"
      ],
      "execution_count": 14,
      "outputs": [
        {
          "output_type": "display_data",
          "data": {
            "image/png": "[encoded data removed]",
            "text/plain": [
              "<Figure size 1008x504 with 1 Axes>"
            ]
          },
          "metadata": {
            "tags": [],
            "needs_background": "light"
          }
        }
      ]
    },
    {
      "cell_type": "markdown",
      "metadata": {
        "id": "T_y0X5_1JI0n"
      },
      "source": [
        "## Histogram of 3 Month returns excluding where stake is < .1\r\n",
        "\r\n",
        "### This excludes everyone that is only betting the free .01 NMR given out. Staking .1 NMR is only about $4 right now so it is not much of a cut off. You can change up these values is reduce who you are looking at. \r\n",
        "\r\n"
      ]
    },
    {
      "cell_type": "code",
      "metadata": {
        "colab": {
          "base_uri": "https://localhost:8080/",
          "height": 458
        },
        "id": "YjMZLmQTJI0n",
        "outputId": "02c46299-7645-4750-ca0d-dfdc56b9edaa"
      },
      "source": [
        "col = '3M_returns'\r\n",
        "\r\n",
        "create_histogram(df,col=col, min_stake=.1, max_stake=100)\r\n",
        "create_histogram(df, col=col,min_stake=100, max_stake=1000000)\r\n",
        "\r\n",
        "plt.legend(['.1 to 100','100+'])\r\n",
        "plt.title(f'{col} by stake size')\r\n",
        "plt.show()"
      ],
      "execution_count": 13,
      "outputs": [
        {
          "output_type": "display_data",
          "data": {
            "image/png": "[encoded data removed]",
            "text/plain": [
              "<Figure size 1008x504 with 1 Axes>"
            ]
          },
          "metadata": {
            "tags": [],
            "needs_background": "light"
          }
        }
      ]
    },
    {
      "cell_type": "markdown",
      "metadata": {
        "id": "_4M8PgwOJI0n"
      },
      "source": [
        "## Histogram of Corr by Stake Size\r\n",
        " \r\n",
        "- This forms a bimodal distribution at corrRep = -.1 and corrRep = ~+.025\r\n",
        "- I suspect the cluster at exactly corrRep =-.1 is because every score worse than that is recorded as -.1. This would prevent a savvy person from figuring the actual true predictions by submitting a whole bunch of different submissions and then comparing the Corr scores. I don’t know that for certain but it's the best explanation I can think of.\r\n"
      ]
    },
    {
      "cell_type": "code",
      "metadata": {
        "colab": {
          "base_uri": "https://localhost:8080/",
          "height": 404
        },
        "id": "L_fADMR6JI0o",
        "outputId": "8b7f448d-0a1f-4acf-c018-ba38948ac621"
      },
      "source": [
        "col = 'corrRep'\r\n",
        "\r\n",
        "create_histogram(df,col=col, min_stake=0, max_stake=1)\r\n",
        "create_histogram(df,col=col, min_stake=1, max_stake=100)\r\n",
        "create_histogram(df, col=col,min_stake=100, max_stake=1000000)\r\n",
        "\r\n",
        "plt.legend(['.1 to 1','1 to 100','100+'])\r\n",
        "plt.title(\"Corr by stake size\")\r\n",
        "plt.show()"
      ],
      "execution_count": null,
      "outputs": [
        {
          "output_type": "display_data",
          "data": {
            "image/png": "[encoded data removed]",
            "text/plain": [
              "<Figure size 432x432 with 1 Axes>"
            ]
          },
          "metadata": {
            "tags": [],
            "needs_background": "light"
          }
        }
      ]
    },
    {
      "cell_type": "markdown",
      "metadata": {
        "id": "_QNr51P7JI0o"
      },
      "source": [
        "# Scatter Plots\r\n"
      ]
    },
    {
      "cell_type": "code",
      "metadata": {
        "colab": {
          "base_uri": "https://localhost:8080/",
          "height": 436
        },
        "id": "Ani1bn7cJI0o",
        "outputId": "50a272a8-c941-4ac8-a4be-339d8c4f8b50"
      },
      "source": [
        "create_scatter_plot(df, x_name='corrRep', y_name='nmrStaked')"
      ],
      "execution_count": null,
      "outputs": [
        {
          "output_type": "execute_result",
          "data": {
            "text/plain": [
              "<module 'matplotlib.pyplot' from '/usr/local/lib/python3.7/dist-packages/matplotlib/pyplot.py'>"
            ]
          },
          "metadata": {
            "tags": []
          },
          "execution_count": 8
        },
        {
          "output_type": "display_data",
          "data": {
            "image/png": "[encoded data removed]",
            "text/plain": [
              "<Figure size 432x432 with 1 Axes>"
            ]
          },
          "metadata": {
            "tags": [],
            "needs_background": "light"
          }
        }
      ]
    },
    {
      "cell_type": "markdown",
      "metadata": {
        "id": "0M2yMpzQJI0o"
      },
      "source": [
        "# Methods to for Ordinary Least Squares Regression\r\n",
        " \r\n",
        "## [Read about OLS on Wikipedia](https://en.wikipedia.org/wiki/Ordinary_least_squares)\r\n",
        "### I am primarily interested in the relationship between stake size and returns. From an economics perspective one would expect people to bet more money on models that have a higher correlation score. This would mean a positive correlation between stake size and returns. \r\n",
        " \r\n",
        "\r\n"
      ]
    },
    {
      "cell_type": "code",
      "metadata": {
        "id": "X5qMNXtlJI0o"
      },
      "source": [
        "def compute_single_regression(df,\r\n",
        "                              independent_variable='corrRep',\r\n",
        "                              dependent_variable='3M_returns',\r\n",
        "                              min_stake=0):\r\n",
        "\r\n",
        "    x = df[(df[dependent_variable].notnull())\r\n",
        "           & (df['nmrStaked'] > min_stake)][independent_variable]\r\n",
        "    y = df[(df[dependent_variable].notnull())\r\n",
        "           & (df['nmrStaked'] > min_stake)][dependent_variable]\r\n",
        "    model = sm.OLS(y, x)\r\n",
        "    results = model.fit()\r\n",
        "    return results\r\n",
        "\r\n",
        "\r\n",
        "def compute_multiple_regression(\r\n",
        "        df,\r\n",
        "        indepenent_variables=['corrRep', 'fncRep', 'mmcRep', 'nmrStaked'],\r\n",
        "        dependent_variable='3M_returns',\r\n",
        "        min_stake=0):\r\n",
        "    x = df[(df[dependent_variable].notnull())\r\n",
        "           & (df['nmrStaked'] > min_stake)][indepenent_variables]\r\n",
        "    y = df[(df[dependent_variable].notnull())\r\n",
        "           & (df['nmrStaked'] > min_stake)][dependent_variable]\r\n",
        "    model = sm.OLS(y, x)\r\n",
        "    results = model.fit()\r\n",
        "    return results\r\n"
      ],
      "execution_count": null,
      "outputs": []
    },
    {
      "cell_type": "markdown",
      "metadata": {
        "id": "T7rTtFsvJI0p"
      },
      "source": [
        "## Single Regression Stake Size and 3 Month Returns"
      ]
    },
    {
      "cell_type": "code",
      "metadata": {
        "colab": {
          "base_uri": "https://localhost:8080/",
          "height": 413
        },
        "id": "gtiiPU6dJI0p",
        "outputId": "39dd1d03-ba67-4e43-dfb3-ecc7db502018"
      },
      "source": [
        "results = compute_single_regression(df,independent_variable='nmrStaked',dependent_variable='3M_returns', min_stake=0)\r\n",
        "results.summary()\r\n"
      ],
      "execution_count": null,
      "outputs": [
        {
          "output_type": "execute_result",
          "data": {
            "text/html": [
              "<table class=\"simpletable\">\n",
              "<caption>OLS Regression Results</caption>\n",
              "<tr>\n",
              "  <th>Dep. Variable:</th>       <td>3M_returns</td>    <th>  R-squared (uncentered):</th>      <td>   0.025</td> \n",
              "</tr>\n",
              "<tr>\n",
              "  <th>Model:</th>                   <td>OLS</td>       <th>  Adj. R-squared (uncentered):</th> <td>   0.025</td> \n",
              "</tr>\n",
              "<tr>\n",
              "  <th>Method:</th>             <td>Least Squares</td>  <th>  F-statistic:       </th>          <td>   49.92</td> \n",
              "</tr>\n",
              "<tr>\n",
              "  <th>Date:</th>             <td>Thu, 11 Mar 2021</td> <th>  Prob (F-statistic):</th>          <td>2.23e-12</td> \n",
              "</tr>\n",
              "<tr>\n",
              "  <th>Time:</th>                 <td>21:26:36</td>     <th>  Log-Likelihood:    </th>          <td> -9675.5</td> \n",
              "</tr>\n",
              "<tr>\n",
              "  <th>No. Observations:</th>      <td>  1934</td>      <th>  AIC:               </th>          <td>1.935e+04</td>\n",
              "</tr>\n",
              "<tr>\n",
              "  <th>Df Residuals:</th>          <td>  1933</td>      <th>  BIC:               </th>          <td>1.936e+04</td>\n",
              "</tr>\n",
              "<tr>\n",
              "  <th>Df Model:</th>              <td>     1</td>      <th>                     </th>              <td> </td>    \n",
              "</tr>\n",
              "<tr>\n",
              "  <th>Covariance Type:</th>      <td>nonrobust</td>    <th>                     </th>              <td> </td>    \n",
              "</tr>\n",
              "</table>\n",
              "<table class=\"simpletable\">\n",
              "<tr>\n",
              "      <td></td>         <th>coef</th>     <th>std err</th>      <th>t</th>      <th>P>|t|</th>  <th>[0.025</th>    <th>0.975]</th>  \n",
              "</tr>\n",
              "<tr>\n",
              "  <th>nmrStaked</th> <td>    0.0108</td> <td>    0.002</td> <td>    7.065</td> <td> 0.000</td> <td>    0.008</td> <td>    0.014</td>\n",
              "</tr>\n",
              "</table>\n",
              "<table class=\"simpletable\">\n",
              "<tr>\n",
              "  <th>Omnibus:</th>       <td>545.238</td> <th>  Durbin-Watson:     </th> <td>   0.698</td>\n",
              "</tr>\n",
              "<tr>\n",
              "  <th>Prob(Omnibus):</th> <td> 0.000</td>  <th>  Jarque-Bera (JB):  </th> <td>2232.461</td>\n",
              "</tr>\n",
              "<tr>\n",
              "  <th>Skew:</th>          <td> 1.311</td>  <th>  Prob(JB):          </th> <td>    0.00</td>\n",
              "</tr>\n",
              "<tr>\n",
              "  <th>Kurtosis:</th>      <td> 7.563</td>  <th>  Cond. No.          </th> <td>    1.00</td>\n",
              "</tr>\n",
              "</table><br/><br/>Warnings:<br/>[1] Standard Errors assume that the covariance matrix of the errors is correctly specified."
            ],
            "text/plain": [
              "<class 'statsmodels.iolib.summary.Summary'>\n",
              "\"\"\"\n",
              "                                 OLS Regression Results                                \n",
              "=======================================================================================\n",
              "Dep. Variable:             3M_returns   R-squared (uncentered):                   0.025\n",
              "Model:                            OLS   Adj. R-squared (uncentered):              0.025\n",
              "Method:                 Least Squares   F-statistic:                              49.92\n",
              "Date:                Thu, 11 Mar 2021   Prob (F-statistic):                    2.23e-12\n",
              "Time:                        21:26:36   Log-Likelihood:                         -9675.5\n",
              "No. Observations:                1934   AIC:                                  1.935e+04\n",
              "Df Residuals:                    1933   BIC:                                  1.936e+04\n",
              "Df Model:                           1                                                  \n",
              "Covariance Type:            nonrobust                                                  \n",
              "==============================================================================\n",
              "                 coef    std err          t      P>|t|      [0.025      0.975]\n",
              "------------------------------------------------------------------------------\n",
              "nmrStaked      0.0108      0.002      7.065      0.000       0.008       0.014\n",
              "==============================================================================\n",
              "Omnibus:                      545.238   Durbin-Watson:                   0.698\n",
              "Prob(Omnibus):                  0.000   Jarque-Bera (JB):             2232.461\n",
              "Skew:                           1.311   Prob(JB):                         0.00\n",
              "Kurtosis:                       7.563   Cond. No.                         1.00\n",
              "==============================================================================\n",
              "\n",
              "Warnings:\n",
              "[1] Standard Errors assume that the covariance matrix of the errors is correctly specified.\n",
              "\"\"\""
            ]
          },
          "metadata": {
            "tags": []
          },
          "execution_count": 10
        }
      ]
    },
    {
      "cell_type": "markdown",
      "metadata": {
        "id": "piKNM9CxJI0p"
      },
      "source": [
        "# Findings\r\n",
        " \r\n",
        "## There is a small significant positive relationship between amount staked and 3-month returns (coef= 0.0086, p<.000). However, only looking at stake size does not explain much of the variance in the 3-month returns. \r\n",
        " \r\n",
        "- The R^2 value is .027, I thought this would be much larger.\r\n",
        "- One explanation is that having access to a lot of capital is not indicative of being good at model building. \r\n",
        "- There are a lot of low capital high skill data scientists out there\r\n",
        " "
      ]
    },
    {
      "cell_type": "markdown",
      "metadata": {
        "id": "2yt-NXISJI0p"
      },
      "source": [
        "## Multiple Regression on 1D returns. \r\n",
        " \r\n",
        "### This is looking at the relative impact of CORR, MMC, FNC, and Stake on returns. Because this is only 1D returns one would expect these features to poorly predict returns because there is so much variance in 1D returns. \r\n",
        " "
      ]
    },
    {
      "cell_type": "code",
      "metadata": {
        "colab": {
          "base_uri": "https://localhost:8080/",
          "height": 508
        },
        "id": "uf6cgaeeJI0p",
        "outputId": "5448185c-e41f-4edd-8c94-48f44c235668"
      },
      "source": [
        "# multiple regression looks at the impact of several independent variables on the dependent variable.\r\n",
        "# I set the default independent variables to ['corrRep', 'fncRep', 'mmcRep', 'nmrStaked']\r\n",
        "results = compute_multiple_regression(df,dependent_variable='1D_returns')\r\n",
        "results.summary()\r\n",
        " "
      ],
      "execution_count": null,
      "outputs": [
        {
          "output_type": "execute_result",
          "data": {
            "text/html": [
              "<table class=\"simpletable\">\n",
              "<caption>OLS Regression Results</caption>\n",
              "<tr>\n",
              "  <th>Dep. Variable:</th>       <td>1D_returns</td>    <th>  R-squared (uncentered):</th>      <td>   0.447</td> \n",
              "</tr>\n",
              "<tr>\n",
              "  <th>Model:</th>                   <td>OLS</td>       <th>  Adj. R-squared (uncentered):</th> <td>   0.447</td> \n",
              "</tr>\n",
              "<tr>\n",
              "  <th>Method:</th>             <td>Least Squares</td>  <th>  F-statistic:       </th>          <td>   480.7</td> \n",
              "</tr>\n",
              "<tr>\n",
              "  <th>Date:</th>             <td>Thu, 11 Mar 2021</td> <th>  Prob (F-statistic):</th>          <td>7.74e-304</td>\n",
              "</tr>\n",
              "<tr>\n",
              "  <th>Time:</th>                 <td>21:26:36</td>     <th>  Log-Likelihood:    </th>          <td> -8582.9</td> \n",
              "</tr>\n",
              "<tr>\n",
              "  <th>No. Observations:</th>      <td>  2378</td>      <th>  AIC:               </th>          <td>1.717e+04</td>\n",
              "</tr>\n",
              "<tr>\n",
              "  <th>Df Residuals:</th>          <td>  2374</td>      <th>  BIC:               </th>          <td>1.720e+04</td>\n",
              "</tr>\n",
              "<tr>\n",
              "  <th>Df Model:</th>              <td>     4</td>      <th>                     </th>              <td> </td>    \n",
              "</tr>\n",
              "<tr>\n",
              "  <th>Covariance Type:</th>      <td>nonrobust</td>    <th>                     </th>              <td> </td>    \n",
              "</tr>\n",
              "</table>\n",
              "<table class=\"simpletable\">\n",
              "<tr>\n",
              "      <td></td>         <th>coef</th>     <th>std err</th>      <th>t</th>      <th>P>|t|</th>  <th>[0.025</th>    <th>0.975]</th>  \n",
              "</tr>\n",
              "<tr>\n",
              "  <th>corrRep</th>   <td>  559.5181</td> <td>   15.065</td> <td>   37.141</td> <td> 0.000</td> <td>  529.977</td> <td>  589.060</td>\n",
              "</tr>\n",
              "<tr>\n",
              "  <th>fncRep</th>    <td> -539.8582</td> <td>   31.745</td> <td>  -17.006</td> <td> 0.000</td> <td> -602.109</td> <td> -477.608</td>\n",
              "</tr>\n",
              "<tr>\n",
              "  <th>mmcRep</th>    <td>  -74.7072</td> <td>   25.306</td> <td>   -2.952</td> <td> 0.003</td> <td> -124.331</td> <td>  -25.084</td>\n",
              "</tr>\n",
              "<tr>\n",
              "  <th>nmrStaked</th> <td> 1.892e-05</td> <td>    0.000</td> <td>    0.048</td> <td> 0.962</td> <td>   -0.001</td> <td>    0.001</td>\n",
              "</tr>\n",
              "</table>\n",
              "<table class=\"simpletable\">\n",
              "<tr>\n",
              "  <th>Omnibus:</th>       <td>272.825</td> <th>  Durbin-Watson:     </th> <td>   1.827</td> \n",
              "</tr>\n",
              "<tr>\n",
              "  <th>Prob(Omnibus):</th> <td> 0.000</td>  <th>  Jarque-Bera (JB):  </th> <td>1311.345</td> \n",
              "</tr>\n",
              "<tr>\n",
              "  <th>Skew:</th>          <td> 0.445</td>  <th>  Prob(JB):          </th> <td>1.76e-285</td>\n",
              "</tr>\n",
              "<tr>\n",
              "  <th>Kurtosis:</th>      <td> 6.527</td>  <th>  Cond. No.          </th> <td>1.07e+05</td> \n",
              "</tr>\n",
              "</table><br/><br/>Warnings:<br/>[1] Standard Errors assume that the covariance matrix of the errors is correctly specified.<br/>[2] The condition number is large, 1.07e+05. This might indicate that there are<br/>strong multicollinearity or other numerical problems."
            ],
            "text/plain": [
              "<class 'statsmodels.iolib.summary.Summary'>\n",
              "\"\"\"\n",
              "                                 OLS Regression Results                                \n",
              "=======================================================================================\n",
              "Dep. Variable:             1D_returns   R-squared (uncentered):                   0.447\n",
              "Model:                            OLS   Adj. R-squared (uncentered):              0.447\n",
              "Method:                 Least Squares   F-statistic:                              480.7\n",
              "Date:                Thu, 11 Mar 2021   Prob (F-statistic):                   7.74e-304\n",
              "Time:                        21:26:36   Log-Likelihood:                         -8582.9\n",
              "No. Observations:                2378   AIC:                                  1.717e+04\n",
              "Df Residuals:                    2374   BIC:                                  1.720e+04\n",
              "Df Model:                           4                                                  \n",
              "Covariance Type:            nonrobust                                                  \n",
              "==============================================================================\n",
              "                 coef    std err          t      P>|t|      [0.025      0.975]\n",
              "------------------------------------------------------------------------------\n",
              "corrRep      559.5181     15.065     37.141      0.000     529.977     589.060\n",
              "fncRep      -539.8582     31.745    -17.006      0.000    -602.109    -477.608\n",
              "mmcRep       -74.7072     25.306     -2.952      0.003    -124.331     -25.084\n",
              "nmrStaked   1.892e-05      0.000      0.048      0.962      -0.001       0.001\n",
              "==============================================================================\n",
              "Omnibus:                      272.825   Durbin-Watson:                   1.827\n",
              "Prob(Omnibus):                  0.000   Jarque-Bera (JB):             1311.345\n",
              "Skew:                           0.445   Prob(JB):                    1.76e-285\n",
              "Kurtosis:                       6.527   Cond. No.                     1.07e+05\n",
              "==============================================================================\n",
              "\n",
              "Warnings:\n",
              "[1] Standard Errors assume that the covariance matrix of the errors is correctly specified.\n",
              "[2] The condition number is large, 1.07e+05. This might indicate that there are\n",
              "strong multicollinearity or other numerical problems.\n",
              "\"\"\""
            ]
          },
          "metadata": {
            "tags": []
          },
          "execution_count": 11
        }
      ]
    },
    {
      "cell_type": "markdown",
      "metadata": {
        "id": "ol6UVem3JI0q"
      },
      "source": [
        "\r\n",
        "## Multiple Regression on 3 Month Returns"
      ]
    },
    {
      "cell_type": "code",
      "metadata": {
        "colab": {
          "base_uri": "https://localhost:8080/",
          "height": 508
        },
        "id": "o3PbYf0HJI0q",
        "outputId": "d71da642-9e16-40a7-8f64-d3c79e6e1b62"
      },
      "source": [
        "results = compute_multiple_regression(df,dependent_variable='3M_returns')\r\n",
        "results.summary()\r\n"
      ],
      "execution_count": null,
      "outputs": [
        {
          "output_type": "execute_result",
          "data": {
            "text/html": [
              "<table class=\"simpletable\">\n",
              "<caption>OLS Regression Results</caption>\n",
              "<tr>\n",
              "  <th>Dep. Variable:</th>       <td>3M_returns</td>    <th>  R-squared (uncentered):</th>      <td>   0.818</td> \n",
              "</tr>\n",
              "<tr>\n",
              "  <th>Model:</th>                   <td>OLS</td>       <th>  Adj. R-squared (uncentered):</th> <td>   0.817</td> \n",
              "</tr>\n",
              "<tr>\n",
              "  <th>Method:</th>             <td>Least Squares</td>  <th>  F-statistic:       </th>          <td>   2163.</td> \n",
              "</tr>\n",
              "<tr>\n",
              "  <th>Date:</th>             <td>Thu, 11 Mar 2021</td> <th>  Prob (F-statistic):</th>           <td>  0.00</td>  \n",
              "</tr>\n",
              "<tr>\n",
              "  <th>Time:</th>                 <td>21:26:36</td>     <th>  Log-Likelihood:    </th>          <td> -8054.6</td> \n",
              "</tr>\n",
              "<tr>\n",
              "  <th>No. Observations:</th>      <td>  1934</td>      <th>  AIC:               </th>          <td>1.612e+04</td>\n",
              "</tr>\n",
              "<tr>\n",
              "  <th>Df Residuals:</th>          <td>  1930</td>      <th>  BIC:               </th>          <td>1.614e+04</td>\n",
              "</tr>\n",
              "<tr>\n",
              "  <th>Df Model:</th>              <td>     4</td>      <th>                     </th>              <td> </td>    \n",
              "</tr>\n",
              "<tr>\n",
              "  <th>Covariance Type:</th>      <td>nonrobust</td>    <th>                     </th>              <td> </td>    \n",
              "</tr>\n",
              "</table>\n",
              "<table class=\"simpletable\">\n",
              "<tr>\n",
              "      <td></td>         <th>coef</th>     <th>std err</th>      <th>t</th>      <th>P>|t|</th>  <th>[0.025</th>    <th>0.975]</th>  \n",
              "</tr>\n",
              "<tr>\n",
              "  <th>corrRep</th>   <td> 2610.2455</td> <td>   28.591</td> <td>   91.297</td> <td> 0.000</td> <td> 2554.174</td> <td> 2666.317</td>\n",
              "</tr>\n",
              "<tr>\n",
              "  <th>fncRep</th>    <td>-3557.5233</td> <td>   61.184</td> <td>  -58.144</td> <td> 0.000</td> <td>-3677.517</td> <td>-3437.529</td>\n",
              "</tr>\n",
              "<tr>\n",
              "  <th>mmcRep</th>    <td>  950.8214</td> <td>   46.077</td> <td>   20.636</td> <td> 0.000</td> <td>  860.456</td> <td> 1041.187</td>\n",
              "</tr>\n",
              "<tr>\n",
              "  <th>nmrStaked</th> <td>-2.124e-05</td> <td>    0.001</td> <td>   -0.031</td> <td> 0.976</td> <td>   -0.001</td> <td>    0.001</td>\n",
              "</tr>\n",
              "</table>\n",
              "<table class=\"simpletable\">\n",
              "<tr>\n",
              "  <th>Omnibus:</th>       <td>842.621</td> <th>  Durbin-Watson:     </th> <td>   1.707</td> \n",
              "</tr>\n",
              "<tr>\n",
              "  <th>Prob(Omnibus):</th> <td> 0.000</td>  <th>  Jarque-Bera (JB):  </th> <td>19211.722</td>\n",
              "</tr>\n",
              "<tr>\n",
              "  <th>Skew:</th>          <td> 1.512</td>  <th>  Prob(JB):          </th> <td>    0.00</td> \n",
              "</tr>\n",
              "<tr>\n",
              "  <th>Kurtosis:</th>      <td>18.141</td>  <th>  Cond. No.          </th> <td>1.15e+05</td> \n",
              "</tr>\n",
              "</table><br/><br/>Warnings:<br/>[1] Standard Errors assume that the covariance matrix of the errors is correctly specified.<br/>[2] The condition number is large, 1.15e+05. This might indicate that there are<br/>strong multicollinearity or other numerical problems."
            ],
            "text/plain": [
              "<class 'statsmodels.iolib.summary.Summary'>\n",
              "\"\"\"\n",
              "                                 OLS Regression Results                                \n",
              "=======================================================================================\n",
              "Dep. Variable:             3M_returns   R-squared (uncentered):                   0.818\n",
              "Model:                            OLS   Adj. R-squared (uncentered):              0.817\n",
              "Method:                 Least Squares   F-statistic:                              2163.\n",
              "Date:                Thu, 11 Mar 2021   Prob (F-statistic):                        0.00\n",
              "Time:                        21:26:36   Log-Likelihood:                         -8054.6\n",
              "No. Observations:                1934   AIC:                                  1.612e+04\n",
              "Df Residuals:                    1930   BIC:                                  1.614e+04\n",
              "Df Model:                           4                                                  \n",
              "Covariance Type:            nonrobust                                                  \n",
              "==============================================================================\n",
              "                 coef    std err          t      P>|t|      [0.025      0.975]\n",
              "------------------------------------------------------------------------------\n",
              "corrRep     2610.2455     28.591     91.297      0.000    2554.174    2666.317\n",
              "fncRep     -3557.5233     61.184    -58.144      0.000   -3677.517   -3437.529\n",
              "mmcRep       950.8214     46.077     20.636      0.000     860.456    1041.187\n",
              "nmrStaked  -2.124e-05      0.001     -0.031      0.976      -0.001       0.001\n",
              "==============================================================================\n",
              "Omnibus:                      842.621   Durbin-Watson:                   1.707\n",
              "Prob(Omnibus):                  0.000   Jarque-Bera (JB):            19211.722\n",
              "Skew:                           1.512   Prob(JB):                         0.00\n",
              "Kurtosis:                      18.141   Cond. No.                     1.15e+05\n",
              "==============================================================================\n",
              "\n",
              "Warnings:\n",
              "[1] Standard Errors assume that the covariance matrix of the errors is correctly specified.\n",
              "[2] The condition number is large, 1.15e+05. This might indicate that there are\n",
              "strong multicollinearity or other numerical problems.\n",
              "\"\"\""
            ]
          },
          "metadata": {
            "tags": []
          },
          "execution_count": 12
        }
      ]
    },
    {
      "cell_type": "markdown",
      "metadata": {
        "id": "OshGtjQUJI0q"
      },
      "source": [
        "# Multiple Regression on 1 Year Returns"
      ]
    },
    {
      "cell_type": "code",
      "metadata": {
        "colab": {
          "base_uri": "https://localhost:8080/",
          "height": 508
        },
        "id": "oWzXgK26JI0q",
        "outputId": "1b23936c-dda6-4c4c-e42d-7fc7c20c0852"
      },
      "source": [
        "results = compute_multiple_regression(df, dependent_variable='1Y_returns')\r\n",
        "results.summary()"
      ],
      "execution_count": null,
      "outputs": [
        {
          "output_type": "execute_result",
          "data": {
            "text/html": [
              "<table class=\"simpletable\">\n",
              "<caption>OLS Regression Results</caption>\n",
              "<tr>\n",
              "  <th>Dep. Variable:</th>       <td>1Y_returns</td>    <th>  R-squared (uncentered):</th>      <td>   0.859</td> \n",
              "</tr>\n",
              "<tr>\n",
              "  <th>Model:</th>                   <td>OLS</td>       <th>  Adj. R-squared (uncentered):</th> <td>   0.858</td> \n",
              "</tr>\n",
              "<tr>\n",
              "  <th>Method:</th>             <td>Least Squares</td>  <th>  F-statistic:       </th>          <td>   605.5</td> \n",
              "</tr>\n",
              "<tr>\n",
              "  <th>Date:</th>             <td>Thu, 11 Mar 2021</td> <th>  Prob (F-statistic):</th>          <td>1.80e-167</td>\n",
              "</tr>\n",
              "<tr>\n",
              "  <th>Time:</th>                 <td>21:26:36</td>     <th>  Log-Likelihood:    </th>          <td> -2297.5</td> \n",
              "</tr>\n",
              "<tr>\n",
              "  <th>No. Observations:</th>      <td>   401</td>      <th>  AIC:               </th>          <td>   4603.</td> \n",
              "</tr>\n",
              "<tr>\n",
              "  <th>Df Residuals:</th>          <td>   397</td>      <th>  BIC:               </th>          <td>   4619.</td> \n",
              "</tr>\n",
              "<tr>\n",
              "  <th>Df Model:</th>              <td>     4</td>      <th>                     </th>              <td> </td>    \n",
              "</tr>\n",
              "<tr>\n",
              "  <th>Covariance Type:</th>      <td>nonrobust</td>    <th>                     </th>              <td> </td>    \n",
              "</tr>\n",
              "</table>\n",
              "<table class=\"simpletable\">\n",
              "<tr>\n",
              "      <td></td>         <th>coef</th>     <th>std err</th>      <th>t</th>      <th>P>|t|</th>  <th>[0.025</th>    <th>0.975]</th>  \n",
              "</tr>\n",
              "<tr>\n",
              "  <th>corrRep</th>   <td> 9849.8955</td> <td>  311.914</td> <td>   31.579</td> <td> 0.000</td> <td> 9236.687</td> <td> 1.05e+04</td>\n",
              "</tr>\n",
              "<tr>\n",
              "  <th>fncRep</th>    <td>-2514.7246</td> <td>  699.095</td> <td>   -3.597</td> <td> 0.000</td> <td>-3889.116</td> <td>-1140.333</td>\n",
              "</tr>\n",
              "<tr>\n",
              "  <th>mmcRep</th>    <td>-7398.4412</td> <td>  504.185</td> <td>  -14.674</td> <td> 0.000</td> <td>-8389.648</td> <td>-6407.234</td>\n",
              "</tr>\n",
              "<tr>\n",
              "  <th>nmrStaked</th> <td>    0.0111</td> <td>    0.004</td> <td>    2.894</td> <td> 0.004</td> <td>    0.004</td> <td>    0.019</td>\n",
              "</tr>\n",
              "</table>\n",
              "<table class=\"simpletable\">\n",
              "<tr>\n",
              "  <th>Omnibus:</th>       <td>22.085</td> <th>  Durbin-Watson:     </th> <td>   1.931</td>\n",
              "</tr>\n",
              "<tr>\n",
              "  <th>Prob(Omnibus):</th> <td> 0.000</td> <th>  Jarque-Bera (JB):  </th> <td>  33.711</td>\n",
              "</tr>\n",
              "<tr>\n",
              "  <th>Skew:</th>          <td> 0.403</td> <th>  Prob(JB):          </th> <td>4.78e-08</td>\n",
              "</tr>\n",
              "<tr>\n",
              "  <th>Kurtosis:</th>      <td> 4.169</td> <th>  Cond. No.          </th> <td>2.50e+05</td>\n",
              "</tr>\n",
              "</table><br/><br/>Warnings:<br/>[1] Standard Errors assume that the covariance matrix of the errors is correctly specified.<br/>[2] The condition number is large, 2.5e+05. This might indicate that there are<br/>strong multicollinearity or other numerical problems."
            ],
            "text/plain": [
              "<class 'statsmodels.iolib.summary.Summary'>\n",
              "\"\"\"\n",
              "                                 OLS Regression Results                                \n",
              "=======================================================================================\n",
              "Dep. Variable:             1Y_returns   R-squared (uncentered):                   0.859\n",
              "Model:                            OLS   Adj. R-squared (uncentered):              0.858\n",
              "Method:                 Least Squares   F-statistic:                              605.5\n",
              "Date:                Thu, 11 Mar 2021   Prob (F-statistic):                   1.80e-167\n",
              "Time:                        21:26:36   Log-Likelihood:                         -2297.5\n",
              "No. Observations:                 401   AIC:                                      4603.\n",
              "Df Residuals:                     397   BIC:                                      4619.\n",
              "Df Model:                           4                                                  \n",
              "Covariance Type:            nonrobust                                                  \n",
              "==============================================================================\n",
              "                 coef    std err          t      P>|t|      [0.025      0.975]\n",
              "------------------------------------------------------------------------------\n",
              "corrRep     9849.8955    311.914     31.579      0.000    9236.687    1.05e+04\n",
              "fncRep     -2514.7246    699.095     -3.597      0.000   -3889.116   -1140.333\n",
              "mmcRep     -7398.4412    504.185    -14.674      0.000   -8389.648   -6407.234\n",
              "nmrStaked      0.0111      0.004      2.894      0.004       0.004       0.019\n",
              "==============================================================================\n",
              "Omnibus:                       22.085   Durbin-Watson:                   1.931\n",
              "Prob(Omnibus):                  0.000   Jarque-Bera (JB):               33.711\n",
              "Skew:                           0.403   Prob(JB):                     4.78e-08\n",
              "Kurtosis:                       4.169   Cond. No.                     2.50e+05\n",
              "==============================================================================\n",
              "\n",
              "Warnings:\n",
              "[1] Standard Errors assume that the covariance matrix of the errors is correctly specified.\n",
              "[2] The condition number is large, 2.5e+05. This might indicate that there are\n",
              "strong multicollinearity or other numerical problems.\n",
              "\"\"\""
            ]
          },
          "metadata": {
            "tags": []
          },
          "execution_count": 13
        }
      ]
    },
    {
      "cell_type": "markdown",
      "metadata": {
        "id": "fKzE5QCqJI0q"
      },
      "source": [
        "# What do the long-term profits look like?"
      ]
    },
    {
      "cell_type": "code",
      "metadata": {
        "colab": {
          "base_uri": "https://localhost:8080/"
        },
        "id": "KLcbSeo2JI0r",
        "outputId": "d110f0fe-82fc-4956-eb8e-ba70fdb94545"
      },
      "source": [
        "users_with_3_month_returns = df[df['3M_returns'].notnull()]['3M_returns']\r\n",
        "num_3M_returns = users_with_3_month_returns.count()\r\n",
        " \r\n",
        "print('Description users with 3 months of returns\\n', users_with_3_month_returns.describe())\r\n",
        " \r\n",
        "users_net_postive_3_month_returns = df[(df['3M_returns'].notnull()) & (df['3M_returns'] > 0)]['3M_returns']\r\n",
        "num_net_postitive = users_net_postive_3_month_returns.count()\r\n",
        " \r\n",
        "percent_net_positive = \"{:.1%}\".format(num_net_postitive/num_3M_returns)\r\n",
        " \r\n",
        "print(f'Users who were net positive over 3 months: {percent_net_positive}')\r\n",
        " \r\n",
        "users_net_up_10_percent = df[(df['3M_returns'].notnull()) & (df['3M_returns'] > 10)]['3M_returns']\r\n",
        "num_net_up_10_percent = users_net_up_10_percent.count()\r\n",
        " \r\n",
        "percent_net_up_10 = \"{:.1%}\".format(num_net_up_10_percent/num_3M_returns)\r\n",
        "print(f'Users who were net up 10% over 3 months: {percent_net_up_10}')\r\n",
        " \r\n",
        "users_net_up_50_percent = df[(df['3M_returns'].notnull()) & (df['3M_returns'] > 50)]['3M_returns']\r\n",
        "num_net_up_50_percent = users_net_up_50_percent.count()\r\n",
        " \r\n",
        "percent_net_up_50 = \"{:.1%}\".format(num_net_up_50_percent/num_3M_returns)\r\n",
        "print(f'Users who were net up 50% over 3 months: {percent_net_up_50}')"
      ],
      "execution_count": null,
      "outputs": [
        {
          "output_type": "stream",
          "text": [
            "Description users with 3 months of returns\n",
            " count    1934.000000\n",
            "mean       21.794265\n",
            "std        29.256592\n",
            "min       -45.050622\n",
            "25%         0.000000\n",
            "50%        15.117504\n",
            "75%        38.236989\n",
            "max       255.214953\n",
            "Name: 3M_returns, dtype: float64\n",
            "Users who were net positive over 3 months: 66.2%\n",
            "Users who were net up 10% over 3 months: 55.8%\n",
            "Users who were net up 50% over 3 months: 13.9%\n"
          ],
          "name": "stdout"
        }
      ]
    },
    {
      "cell_type": "markdown",
      "metadata": {
        "id": "NZggwFOUJI0r"
      },
      "source": [
        "# Conclusions\r\n",
        "1. I was surprised that there is a negative relationship between FNC and 3M and 1Y returns. I would have expected each of those parameters to have positive coefficients. \r\n",
        "2. The R^2 increases when you look at larger time frames. This matches intuition and the law of large numbers. As you increase the time period you consider, the randomness in the 1D and 3M returns evens out. \r\n",
        "3. Because there is such a small relationship between stake size and returns, I can conclude that you don't need access to large amounts of capital to build a good model. If you look at the leaderboard right now, there are people who have staked anywhere from 0 to ~1,000 NMR that have similar CORR scores.\r\n",
        "4. It seems like betting any amount of money on your model is enough of a signal of confidence in it. There is not that much of a difference between beting 1 and 1000 NMR. This surprised me a lot.\r\n",
        "5. Because some people might have multiple accounts, there is an upper bound of ~900 people who have successfully built models to forecast the stock market well enough to get net +10% over three months. That is absolutely incredible. \r\n",
        " "
      ]
    },
    {
      "cell_type": "markdown",
      "metadata": {
        "id": "XAL3iXSLJI0r"
      },
      "source": [
        "# Next Steps\r\n",
        " \r\n",
        "- Figure out the life cycle of a typical user. How long does it take for them to be profitable, how much turnover is there? How many people just submit the intro model and give up? I am pretty sure I can get this data from the API.\r\n",
        " \r\n",
        "- Track these variables over time. I could store the results from the leaderboard every day and then come back in a month and see if it has changed at all."
      ]
    }
  ]
}